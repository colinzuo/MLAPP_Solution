{
 "cells": [
  {
   "cell_type": "markdown",
   "metadata": {},
   "source": [
    "# Exercise 4.1 \n",
    "Uncorrelated does not imply independent\n",
    "Let $X ∼ U(−1, 1)$ and $Y = X^2$. Clearly Y is dependent on X (in fact, Y is uniquely determined\n",
    "by X). However, show that $ρ(X, Y )=0$. Hint: if $X ∼ U(a, b)$ then $E[X]=(a + b)/2$ and\n",
    "$var [X]=(b − a)^2/12$"
   ]
  },
  {
   "cell_type": "code",
   "execution_count": null,
   "metadata": {},
   "outputs": [],
   "source": []
  }
 ],
 "metadata": {
  "kernelspec": {
   "display_name": "Python 3",
   "language": "python",
   "name": "python3"
  },
  "language_info": {
   "codemirror_mode": {
    "name": "ipython",
    "version": 3
   },
   "file_extension": ".py",
   "mimetype": "text/x-python",
   "name": "python",
   "nbconvert_exporter": "python",
   "pygments_lexer": "ipython3",
   "version": "3.5.4"
  }
 },
 "nbformat": 4,
 "nbformat_minor": 2
}
